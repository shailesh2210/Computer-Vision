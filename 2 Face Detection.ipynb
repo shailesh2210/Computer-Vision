{
 "cells": [
  {
   "cell_type": "markdown",
   "id": "e42d901b",
   "metadata": {},
   "source": [
    "### Example 1 "
   ]
  },
  {
   "cell_type": "code",
   "execution_count": 1,
   "id": "e740b8f0",
   "metadata": {},
   "outputs": [],
   "source": [
    "import cv2\n",
    "import numpy as np"
   ]
  },
  {
   "cell_type": "code",
   "execution_count": 2,
   "id": "769ccb4c",
   "metadata": {},
   "outputs": [],
   "source": [
    "face_classifier = cv2.CascadeClassifier(\"Computer-Vision-Tutorial-master/Haarcascades/haarcascade_frontalface_default.xml\")"
   ]
  },
  {
   "cell_type": "code",
   "execution_count": 19,
   "id": "57ff21f3",
   "metadata": {},
   "outputs": [
    {
     "name": "stderr",
     "output_type": "stream",
     "text": [
      "<ipython-input-19-1e204035f4bb>:7: DeprecationWarning: elementwise comparison failed; this will raise an error in the future.\n",
      "  if face == ():\n"
     ]
    }
   ],
   "source": [
    "# load image and convert into grey scale image\n",
    "image = cv2.imread(\"Images/Barack_Obama.jpg\")\n",
    "grey = cv2.cvtColor(image , cv2.COLOR_BGR2GRAY)\n",
    "\n",
    "face = face_classifier.detectMultiScale(grey , 1.3 , 5)\n",
    "\n",
    "if face == ():\n",
    "    print(\"No Face Detected\")\n",
    "    \n",
    "for (x,y,w,h) in face:\n",
    "    cv2.rectangle(image , (x,y), (x+w , y+h) , (183, 300 , 264), 3)\n",
    "    cv2.imshow(\"Face Detection\" , image)\n",
    "    cv2.waitKey()\n",
    "    cv2.destroyAllWindows()"
   ]
  },
  {
   "cell_type": "markdown",
   "id": "2b5022b6",
   "metadata": {},
   "source": [
    "### Exmaple 2"
   ]
  },
  {
   "cell_type": "code",
   "execution_count": 20,
   "id": "d964b845",
   "metadata": {},
   "outputs": [],
   "source": [
    "import cv2\n",
    "import numpy as np"
   ]
  },
  {
   "cell_type": "code",
   "execution_count": 21,
   "id": "8daec762",
   "metadata": {},
   "outputs": [],
   "source": [
    "face_cls = cv2.CascadeClassifier(\"Computer-Vision-Tutorial-master/Haarcascades/haarcascade_frontalface_default.xml\") "
   ]
  },
  {
   "cell_type": "code",
   "execution_count": 43,
   "id": "1805753e",
   "metadata": {},
   "outputs": [
    {
     "name": "stderr",
     "output_type": "stream",
     "text": [
      "<ipython-input-43-70e4adadbb8d>:7: DeprecationWarning: elementwise comparison failed; this will raise an error in the future.\n",
      "  if face == ():\n"
     ]
    }
   ],
   "source": [
    "# load andn convert into grey scale image\n",
    "img = cv2.imread(\"Images/Barack_Obama.jpg\")\n",
    "gr = cv2.cvtColor(img , cv2.COLOR_BGR2GRAY)\n",
    "\n",
    "face = face_cls.detectMultiScale(grey , 1.3 , 5)\n",
    "\n",
    "if face == ():\n",
    "    print(\"No face Found\")\n",
    "    \n",
    "for (x,y,w,h) in face:\n",
    "    cv2.rectangle(img , (x,y) , (x+w,y+h) , (123, 234, 244) , 3)\n",
    "    cv2.imshow(\"Detction\" , img)\n",
    "    cv2.waitKey()\n",
    "    cv2.destroyAllWindows()"
   ]
  },
  {
   "cell_type": "code",
   "execution_count": null,
   "id": "b249e3eb",
   "metadata": {},
   "outputs": [],
   "source": []
  }
 ],
 "metadata": {
  "kernelspec": {
   "display_name": "Python 3",
   "language": "python",
   "name": "python3"
  },
  "language_info": {
   "codemirror_mode": {
    "name": "ipython",
    "version": 3
   },
   "file_extension": ".py",
   "mimetype": "text/x-python",
   "name": "python",
   "nbconvert_exporter": "python",
   "pygments_lexer": "ipython3",
   "version": "3.8.8"
  }
 },
 "nbformat": 4,
 "nbformat_minor": 5
}
