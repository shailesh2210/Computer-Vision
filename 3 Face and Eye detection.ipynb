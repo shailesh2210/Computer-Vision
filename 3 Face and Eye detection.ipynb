{
 "cells": [
  {
   "cell_type": "code",
   "execution_count": 25,
   "id": "fa64eb45",
   "metadata": {},
   "outputs": [],
   "source": [
    "import cv2\n",
    "import numpy as np"
   ]
  },
  {
   "cell_type": "code",
   "execution_count": 29,
   "id": "82e0d8ce",
   "metadata": {},
   "outputs": [
    {
     "name": "stderr",
     "output_type": "stream",
     "text": [
      "<ipython-input-29-36d75abeb699>:10: DeprecationWarning: elementwise comparison failed; this will raise an error in the future.\n",
      "  if face == ():\n"
     ]
    },
    {
     "name": "stdout",
     "output_type": "stream",
     "text": [
      "Yes All detected!!\n"
     ]
    }
   ],
   "source": [
    "face_classifer = cv2.CascadeClassifier(\"Haarcascades/haarcascade_frontalface_default.xml\")\n",
    "eye_classifer = cv2.CascadeClassifier(\"Haarcascades/haarcascade_eye.xml\")\n",
    "\n",
    "# load image and convert image into grey scale image\n",
    "image = cv2.imread(\"Images/virat.png\")\n",
    "grey = cv2.cvtColor(image , cv2.COLOR_BGR2GRAY)\n",
    "\n",
    "face = face_classifer.detectMultiScale(grey , 1.3 , 5)\n",
    "\n",
    "if face == ():\n",
    "    print(\"No face detected\")\n",
    "    \n",
    "for (x,y,w,h) in face:\n",
    "    cv2.rectangle(image , (x,y) , (x+w,y+h), (56 , 0 , 876) , 3)\n",
    "    cv2.imshow(\"My Image\" , image)\n",
    "    cv2.waitKey()\n",
    "    roi_gray = grey[y:y+h  , x:x+w]\n",
    "    roi_color = image[y:y+h , x:x+w]\n",
    "    eyes = eye_classifer.detectMultiScale(roi_gray)\n",
    "    for (ex , ey , ew , eh) in eyes:\n",
    "        cv2.rectangle(roi_color , (ex , ey) , (ex+ew,ey+eh) , (654 ,67 , 687) , 3)\n",
    "        cv2.imshow(\"My Image\", image)\n",
    "        cv2.waitKey()\n",
    "cv2.destroyAllWindows()\n",
    "print(\"Yes All detected!!\")"
   ]
  },
  {
   "cell_type": "markdown",
   "id": "33af5261",
   "metadata": {},
   "source": [
    "## Example 2"
   ]
  },
  {
   "cell_type": "code",
   "execution_count": 30,
   "id": "f1d2434f",
   "metadata": {},
   "outputs": [],
   "source": [
    "import cv2"
   ]
  },
  {
   "cell_type": "code",
   "execution_count": 32,
   "id": "c1d303ef",
   "metadata": {},
   "outputs": [
    {
     "name": "stderr",
     "output_type": "stream",
     "text": [
      "<ipython-input-32-f55dddac224a>:10: DeprecationWarning: elementwise comparison failed; this will raise an error in the future.\n",
      "  if face == ():\n"
     ]
    },
    {
     "name": "stdout",
     "output_type": "stream",
     "text": [
      "Yes face and eys were detected!\n"
     ]
    }
   ],
   "source": [
    "face_cls = cv2.CascadeClassifier(\"Haarcascades/haarcascade_frontalface_default.xml\")\n",
    "eye_cls = cv2.CascadeClassifier(\"Haarcascades/haarcascade_eye.xml\")\n",
    "\n",
    "# load img and convert into grey scale img\n",
    "img = cv2.imread(\"Images/KL-Rahul.jpg\")\n",
    "grey = cv2.cvtColor(img, cv2.COLOR_BGR2GRAY)\n",
    "\n",
    "face = face_cls.detectMultiScale(grey , 1.3 , 5)\n",
    "\n",
    "if face == ():\n",
    "    print(\"No Face and Eye Detected\")\n",
    "    \n",
    "for (x,y,w,h) in face:\n",
    "    cv2.rectangle(img , (x,y) , (x+w,y+h) , (5 ,76 ,87) , 3)\n",
    "    cv2.imshow(\"Detect Image\" , img)\n",
    "    cv2.waitKey()\n",
    "    roi_grey = grey[y:y+h , x:x+w]\n",
    "    roi_img = img[y:y+h, x:x+w]\n",
    "    eye = eye_cls.detectMultiScale(roi_grey)\n",
    "    for (ex, ey , ew, eh) in eye:\n",
    "        cv2.rectangle(roi_img , (ex,ey) , (ex+ew , ey+eh) , (654 ,67 , 687) , 3)\n",
    "        cv2.imshow(\"Detect Image\", img)\n",
    "        cv2.waitKey()\n",
    "cv2.destroyAllWindows()\n",
    "print(\"Yes face and eys were detected!\")"
   ]
  },
  {
   "cell_type": "code",
   "execution_count": null,
   "id": "3c219306",
   "metadata": {},
   "outputs": [],
   "source": []
  }
 ],
 "metadata": {
  "kernelspec": {
   "display_name": "Python 3",
   "language": "python",
   "name": "python3"
  },
  "language_info": {
   "codemirror_mode": {
    "name": "ipython",
    "version": 3
   },
   "file_extension": ".py",
   "mimetype": "text/x-python",
   "name": "python",
   "nbconvert_exporter": "python",
   "pygments_lexer": "ipython3",
   "version": "3.8.8"
  }
 },
 "nbformat": 4,
 "nbformat_minor": 5
}
