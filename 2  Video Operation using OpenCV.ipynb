{
 "cells": [
  {
   "cell_type": "code",
   "execution_count": 8,
   "id": "01ca6730",
   "metadata": {},
   "outputs": [],
   "source": [
    "import cv2"
   ]
  },
  {
   "cell_type": "code",
   "execution_count": 24,
   "id": "5981bcd7",
   "metadata": {},
   "outputs": [],
   "source": [
    "cap = cv2.VideoCapture(\"Videos/elefant_1280p.mp4\")"
   ]
  },
  {
   "cell_type": "code",
   "execution_count": 10,
   "id": "2c2b92d6",
   "metadata": {},
   "outputs": [],
   "source": [
    "while True:\n",
    "    ret , frame = cap.read()\n",
    "    cv2.imshow(\"Video Of elephants\" , frame)\n",
    "    k = cv2.waitKey(25)\n",
    "    if k == ord(\"k\"):\n",
    "        break\n",
    "cap.release()\n",
    "cv2.destroyAllWindows()"
   ]
  },
  {
   "cell_type": "code",
   "execution_count": 13,
   "id": "d577be3b",
   "metadata": {},
   "outputs": [],
   "source": [
    "# resize the frame\n",
    "while True:\n",
    "    ret , frame = cap.read()\n",
    "    frame = cv2.resize(frame, (800 , 600))\n",
    "    cv2.imshow(\"Frame\" , frame)\n",
    "    k = cv2.waitKey(25)\n",
    "    if k == ord(\"q\"):\n",
    "        break\n",
    "cap.release()\n",
    "cv2.destroyAllWindows()"
   ]
  },
  {
   "cell_type": "code",
   "execution_count": 25,
   "id": "05ea2477",
   "metadata": {},
   "outputs": [],
   "source": [
    "# convert into grey\n",
    "while True:\n",
    "    ret , frame = cap.read()\n",
    "    frame = cv2.resize(frame , (800 , 600))\n",
    "    grey = cv2.cvtColor(frame , cv2.COLOR_BGR2GRAY)\n",
    "    cv2.imshow(\"Frame\", grey)\n",
    "    k = cv2.waitKey(25)\n",
    "    if k == ord(\"q\"):\n",
    "        break\n",
    "cap.release()\n",
    "cv2.destroyAllWindows()"
   ]
  },
  {
   "cell_type": "code",
   "execution_count": null,
   "id": "0dd75ea3",
   "metadata": {},
   "outputs": [],
   "source": []
  }
 ],
 "metadata": {
  "kernelspec": {
   "display_name": "Python 3 (ipykernel)",
   "language": "python",
   "name": "python3"
  },
  "language_info": {
   "codemirror_mode": {
    "name": "ipython",
    "version": 3
   },
   "file_extension": ".py",
   "mimetype": "text/x-python",
   "name": "python",
   "nbconvert_exporter": "python",
   "pygments_lexer": "ipython3",
   "version": "3.8.8"
  }
 },
 "nbformat": 4,
 "nbformat_minor": 5
}
