{
 "cells": [
  {
   "cell_type": "code",
   "execution_count": 16,
   "id": "de53138e",
   "metadata": {},
   "outputs": [],
   "source": [
    "import cv2"
   ]
  },
  {
   "cell_type": "code",
   "execution_count": 21,
   "id": "d18d5db2",
   "metadata": {},
   "outputs": [
    {
     "name": "stdout",
     "output_type": "stream",
     "text": [
      "cap True\n"
     ]
    }
   ],
   "source": [
    "camera = \"http://192.168.0.104:8080/video\"\n",
    "cap = cv2.VideoCapture(0)\n",
    "cap.open(camera)\n",
    "print(\"cap\" , cap.isOpened())\n",
    "while cap.isOpened():\n",
    "    ret , frame = cap.read()\n",
    "    if ret == True:\n",
    "        frame = cv2.resize(frame , (800 , 600))\n",
    "        cv2.imshow(\"frame\",frame)\n",
    "        k = cv2.waitKey(25)\n",
    "        if k == ord(\"q\"):\n",
    "            break\n",
    "cap.release()\n",
    "cv2.destroyAllWindows()"
   ]
  }
 ],
 "metadata": {
  "kernelspec": {
   "display_name": "Python 3 (ipykernel)",
   "language": "python",
   "name": "python3"
  },
  "language_info": {
   "codemirror_mode": {
    "name": "ipython",
    "version": 3
   },
   "file_extension": ".py",
   "mimetype": "text/x-python",
   "name": "python",
   "nbconvert_exporter": "python",
   "pygments_lexer": "ipython3",
   "version": "3.8.8"
  }
 },
 "nbformat": 4,
 "nbformat_minor": 5
}
