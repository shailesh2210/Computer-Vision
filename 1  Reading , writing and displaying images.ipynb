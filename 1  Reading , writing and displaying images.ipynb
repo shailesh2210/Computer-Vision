{
 "cells": [
  {
   "cell_type": "code",
   "execution_count": 1,
   "id": "7aabb219",
   "metadata": {},
   "outputs": [],
   "source": [
    "import cv2"
   ]
  },
  {
   "cell_type": "code",
   "execution_count": 2,
   "id": "513b0b3c",
   "metadata": {},
   "outputs": [],
   "source": [
    "import numpy as np"
   ]
  },
  {
   "cell_type": "code",
   "execution_count": 3,
   "id": "c613fb9d",
   "metadata": {},
   "outputs": [
    {
     "name": "stdout",
     "output_type": "stream",
     "text": [
      "[[ 89  89  88 ...  51  53  56]\n",
      " [ 87  86  86 ...  50  53  55]\n",
      " [ 85  84  84 ...  50  53  55]\n",
      " ...\n",
      " [137 129 122 ... 130 133 136]\n",
      " [137 129 122 ... 130 134 136]\n",
      " [137 129 122 ... 130 133 136]]\n"
     ]
    }
   ],
   "source": [
    "input = cv2.imread(\"Images/yuvrajsingh.jpg\", 0) # helps use to load an image  0 = Grey scale image and 1 = colour full image default = 1\n",
    "input = cv2.resize(input , (1100 , 700)) #resizing the image\n",
    "print(input)\n",
    "cv2.imshow(\"Yuvraj Singh\" , input) #displaying the image\n",
    "cv2.waitKey()  # \n",
    "cv2.destroyAllWindows()"
   ]
  },
  {
   "cell_type": "markdown",
   "id": "a83aa405",
   "metadata": {},
   "source": [
    "### lets print the dimesnion of the image"
   ]
  },
  {
   "cell_type": "code",
   "execution_count": 4,
   "id": "eb031639",
   "metadata": {},
   "outputs": [
    {
     "name": "stdout",
     "output_type": "stream",
     "text": [
      "Height of image 700 pixels\n",
      "Weight of image 1100 pixels\n"
     ]
    }
   ],
   "source": [
    "print(\"Height of image\" , int(input.shape[0] ), \"pixels\")\n",
    "print(\"Weight of image\" , int(input.shape[1] ), \"pixels\")"
   ]
  },
  {
   "cell_type": "markdown",
   "id": "6aec6136",
   "metadata": {},
   "source": [
    "### here we save the images"
   ]
  },
  {
   "cell_type": "code",
   "execution_count": 5,
   "id": "893374b2",
   "metadata": {},
   "outputs": [
    {
     "data": {
      "text/plain": [
       "True"
      ]
     },
     "execution_count": 5,
     "metadata": {},
     "output_type": "execute_result"
    }
   ],
   "source": [
    "cv2.imwrite(\"input.png\" , input)\n",
    "cv2.imwrite(\"input.jpg\" , input)"
   ]
  },
  {
   "cell_type": "markdown",
   "id": "b1fd2e12",
   "metadata": {},
   "source": [
    "###    Example 2"
   ]
  },
  {
   "cell_type": "code",
   "execution_count": 6,
   "id": "3d8902c5",
   "metadata": {},
   "outputs": [
    {
     "name": "stdout",
     "output_type": "stream",
     "text": [
      "(1499, 1200)\n"
     ]
    }
   ],
   "source": [
    "import cv2\n",
    "data = cv2.imread(\"Images/Barack_Obama.jpg\" , 0)\n",
    "cv2.imshow(\"Input Image\", data)\n",
    "cv2.waitKey()\n",
    "cv2.destroyAllWindows()\n",
    "print(data.shape)"
   ]
  },
  {
   "cell_type": "markdown",
   "id": "65cbb373",
   "metadata": {},
   "source": [
    "### Example 3"
   ]
  },
  {
   "cell_type": "code",
   "execution_count": 7,
   "id": "6b2c5ad1",
   "metadata": {},
   "outputs": [
    {
     "name": "stdout",
     "output_type": "stream",
     "text": [
      "(480, 640, 3)\n"
     ]
    }
   ],
   "source": [
    "import cv2\n",
    "df = cv2.imread(\"Images/3v49raxlb8_WW187785.jpg\", 1)\n",
    "cv2.imshow(\"Data\", df)\n",
    "cv2.waitKey()\n",
    "cv2.destroyAllWindows()\n",
    "print(df.shape)"
   ]
  },
  {
   "cell_type": "markdown",
   "id": "1c4bbbd2",
   "metadata": {},
   "source": [
    "### Example 4"
   ]
  },
  {
   "cell_type": "code",
   "execution_count": 8,
   "id": "c2854f30",
   "metadata": {},
   "outputs": [],
   "source": [
    "import cv2\n",
    "d = cv2.imread(\"Images/MS-Dhoni-6.jpg\")\n",
    "cv2.imshow(\"Dhoni\", d)\n",
    "cv2.waitKey()\n",
    "cv2.destroyAllWindows()"
   ]
  },
  {
   "cell_type": "code",
   "execution_count": 9,
   "id": "57a3264c",
   "metadata": {},
   "outputs": [],
   "source": [
    "import cv2\n",
    "d = cv2.imread(\"Images/MS-Dhoni-6.jpg\",)\n",
    "cv2.imshow(\"Dhoni\", d)\n",
    "cv2.waitKey()\n",
    "cv2.destroyAllWindows()"
   ]
  },
  {
   "cell_type": "code",
   "execution_count": 10,
   "id": "82631d5c",
   "metadata": {},
   "outputs": [],
   "source": [
    "# Image conversion project coloured image into grey scaled image"
   ]
  },
  {
   "cell_type": "code",
   "execution_count": 11,
   "id": "4c8f2033",
   "metadata": {},
   "outputs": [],
   "source": [
    "img = cv2.imread(\"Images/MS-Dhoni-6.jpg\", 0)\n",
    "img = cv2.resize(img , (1200 ,600))\n",
    "cv2.imshow(\"Image\" , img)\n",
    "\n",
    "\n",
    "k = cv2.waitKey()\n",
    "if k == ord(\"s\"):\n",
    "    cv2.imwrite(\"Dhoni Grey converted image.jpg\" , img)\n",
    "else:\n",
    "    cv2.destroyAllWindows()"
   ]
  },
  {
   "cell_type": "code",
   "execution_count": null,
   "id": "84436365",
   "metadata": {},
   "outputs": [],
   "source": []
  }
 ],
 "metadata": {
  "kernelspec": {
   "display_name": "Python 3 (ipykernel)",
   "language": "python",
   "name": "python3"
  },
  "language_info": {
   "codemirror_mode": {
    "name": "ipython",
    "version": 3
   },
   "file_extension": ".py",
   "mimetype": "text/x-python",
   "name": "python",
   "nbconvert_exporter": "python",
   "pygments_lexer": "ipython3",
   "version": "3.8.8"
  }
 },
 "nbformat": 4,
 "nbformat_minor": 5
}
