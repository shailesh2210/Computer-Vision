{
 "cells": [
  {
   "cell_type": "code",
   "execution_count": 2,
   "id": "7aabb219",
   "metadata": {},
   "outputs": [],
   "source": [
    "import cv2"
   ]
  },
  {
   "cell_type": "code",
   "execution_count": 3,
   "id": "513b0b3c",
   "metadata": {},
   "outputs": [],
   "source": [
    "import numpy as np"
   ]
  },
  {
   "cell_type": "code",
   "execution_count": 7,
   "id": "c613fb9d",
   "metadata": {},
   "outputs": [
    {
     "name": "stdout",
     "output_type": "stream",
     "text": [
      "(749, 1200, 3)\n"
     ]
    }
   ],
   "source": [
    "input = cv2.imread(\"Images/yuvrajsingh.jpg\") #helps use to load an image\n",
    "cv2.imshow(\"Yuvraj Singh\" , input) #displaying the image\n",
    "cv2.waitKey()\n",
    "cv2.destroyAllWindows()\n",
    "print(input.shape)   #height , width , channel"
   ]
  },
  {
   "cell_type": "markdown",
   "id": "a83aa405",
   "metadata": {},
   "source": [
    "### lets print the dimesnion of the image"
   ]
  },
  {
   "cell_type": "code",
   "execution_count": 8,
   "id": "eb031639",
   "metadata": {},
   "outputs": [
    {
     "name": "stdout",
     "output_type": "stream",
     "text": [
      "Height of image 749 pixels\n",
      "Weight of image 1200 pixels\n"
     ]
    }
   ],
   "source": [
    "print(\"Height of image\" , int(input.shape[0] ), \"pixels\")\n",
    "print(\"Weight of image\" , int(input.shape[1] ), \"pixels\")"
   ]
  },
  {
   "cell_type": "markdown",
   "id": "6aec6136",
   "metadata": {},
   "source": [
    "### here we save the images"
   ]
  },
  {
   "cell_type": "code",
   "execution_count": 9,
   "id": "893374b2",
   "metadata": {},
   "outputs": [
    {
     "data": {
      "text/plain": [
       "True"
      ]
     },
     "execution_count": 9,
     "metadata": {},
     "output_type": "execute_result"
    }
   ],
   "source": [
    "cv2.imwrite(\"input.png\" , input)\n",
    "cv2.imwrite(\"input.jpg\" , input)"
   ]
  },
  {
   "cell_type": "markdown",
   "id": "b1fd2e12",
   "metadata": {},
   "source": [
    "###    Example 2"
   ]
  },
  {
   "cell_type": "code",
   "execution_count": 10,
   "id": "3d8902c5",
   "metadata": {},
   "outputs": [
    {
     "name": "stdout",
     "output_type": "stream",
     "text": [
      "(1499, 1200, 3)\n"
     ]
    }
   ],
   "source": [
    "import cv2\n",
    "data = cv2.imread(\"Images/Barack_Obama.jpg\")\n",
    "cv2.imshow(\"Input Image\", data)\n",
    "cv2.waitKey()\n",
    "cv2.destroyAllWindows()\n",
    "print(data.shape)"
   ]
  },
  {
   "cell_type": "markdown",
   "id": "65cbb373",
   "metadata": {},
   "source": [
    "### Example 3"
   ]
  },
  {
   "cell_type": "code",
   "execution_count": 11,
   "id": "6b2c5ad1",
   "metadata": {},
   "outputs": [
    {
     "name": "stdout",
     "output_type": "stream",
     "text": [
      "(480, 640, 3)\n"
     ]
    }
   ],
   "source": [
    "import cv2\n",
    "df = cv2.imread(\"Images/3v49raxlb8_WW187785.jpg\")\n",
    "cv2.imshow(\"Data\", df)\n",
    "cv2.waitKey()\n",
    "cv2.destroyAllWindows()\n",
    "print(df.shape)"
   ]
  },
  {
   "cell_type": "markdown",
   "id": "1c4bbbd2",
   "metadata": {},
   "source": [
    "### Example 4"
   ]
  },
  {
   "cell_type": "code",
   "execution_count": 12,
   "id": "c2854f30",
   "metadata": {},
   "outputs": [],
   "source": [
    "import cv2\n",
    "d = cv2.imread(\"Images/MS-Dhoni-6.jpg\")\n",
    "cv2.imshow(\"Dhoni\", d)\n",
    "cv2.waitKey()\n",
    "cv2.destroyAllWindows()"
   ]
  },
  {
   "cell_type": "code",
   "execution_count": null,
   "id": "57a3264c",
   "metadata": {},
   "outputs": [],
   "source": []
  }
 ],
 "metadata": {
  "kernelspec": {
   "display_name": "Python 3",
   "language": "python",
   "name": "python3"
  },
  "language_info": {
   "codemirror_mode": {
    "name": "ipython",
    "version": 3
   },
   "file_extension": ".py",
   "mimetype": "text/x-python",
   "name": "python",
   "nbconvert_exporter": "python",
   "pygments_lexer": "ipython3",
   "version": "3.8.8"
  }
 },
 "nbformat": 4,
 "nbformat_minor": 5
}
