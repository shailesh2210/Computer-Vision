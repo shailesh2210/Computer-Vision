{
 "cells": [
  {
   "cell_type": "markdown",
   "id": "b4cd04a8",
   "metadata": {},
   "source": [
    "### Simple line"
   ]
  },
  {
   "cell_type": "code",
   "execution_count": 1,
   "id": "1f4a5a16",
   "metadata": {},
   "outputs": [],
   "source": [
    "import numpy as np\n",
    "import cv2"
   ]
  },
  {
   "cell_type": "code",
   "execution_count": 15,
   "id": "a0c90ac0",
   "metadata": {},
   "outputs": [],
   "source": [
    "img = cv2.imread(\"Images/Barack_Obama.jpg\")\n",
    "\n",
    "# here line accept 5 para meters (img , starting , ending , color , thickness)\n",
    "img = cv2.line(img , (0,0) , (255 , 255) , (234, 6 , 907) , 10) # coor format BGR\n",
    "\n",
    "img = cv2.imshow(\"Image\", img)\n",
    "\n",
    "cv2.waitKey()\n",
    "cv2.destroyAllWindows()"
   ]
  },
  {
   "cell_type": "markdown",
   "id": "c3148ae9",
   "metadata": {},
   "source": [
    "### Arrowed line"
   ]
  },
  {
   "cell_type": "code",
   "execution_count": 16,
   "id": "7c57149f",
   "metadata": {},
   "outputs": [],
   "source": [
    "import numpy as np\n",
    "import cv2"
   ]
  },
  {
   "cell_type": "code",
   "execution_count": 20,
   "id": "06864f88",
   "metadata": {},
   "outputs": [],
   "source": [
    "img = cv2.imread(\"Images/Barack_Obama.jpg\")\n",
    "img = cv2.arrowedLine(img , (0 , 100) , (400 , 200) , (64 , 8 , 975) , 6)\n",
    "img = cv2.imshow(\"Image\" , img)\n",
    "cv2.waitKey()\n",
    "cv2.destroyAllWindows()"
   ]
  },
  {
   "cell_type": "markdown",
   "id": "26710bc1",
   "metadata": {},
   "source": [
    "### Recentagle"
   ]
  },
  {
   "cell_type": "code",
   "execution_count": 21,
   "id": "538d85ae",
   "metadata": {},
   "outputs": [],
   "source": [
    "import cv2\n",
    "import numpy as np"
   ]
  },
  {
   "cell_type": "code",
   "execution_count": 42,
   "id": "ca3d0608",
   "metadata": {},
   "outputs": [],
   "source": [
    "img = cv2.imread(\"Images/Barack_Obama.jpg\")\n",
    "img = cv2.rectangle(img , (400 , 200) , (800 , 700) , (54 , 78), 5)\n",
    "img = cv2.imshow(\"images\" , img)\n",
    "cv2.waitKey()\n",
    "cv2.destroyAllWindows()"
   ]
  },
  {
   "cell_type": "markdown",
   "id": "9286d72f",
   "metadata": {},
   "source": [
    "### Circle"
   ]
  },
  {
   "cell_type": "code",
   "execution_count": 43,
   "id": "244fd3fc",
   "metadata": {},
   "outputs": [],
   "source": [
    "import cv2\n",
    "import numpy as np"
   ]
  },
  {
   "cell_type": "code",
   "execution_count": 46,
   "id": "3c7af305",
   "metadata": {},
   "outputs": [],
   "source": [
    "img = cv2.imread(\"Images/Barack_Obama.jpg\")\n",
    "\n",
    "# circle paraeters = (img  starting , radius , coor , thickness)\n",
    "img = cv2.circle(img , (200 , 80) , 50 ,(657 , 8 , 675) , 2 )\n",
    "img = cv2.imshow(\"Images\" , img)\n",
    "cv2.waitKey()\n",
    "cv2.destroyAllWindows()"
   ]
  },
  {
   "cell_type": "markdown",
   "id": "21c1e7e4",
   "metadata": {},
   "source": [
    "### Text"
   ]
  },
  {
   "cell_type": "code",
   "execution_count": null,
   "id": "b2f4641e",
   "metadata": {},
   "outputs": [],
   "source": []
  }
 ],
 "metadata": {
  "kernelspec": {
   "display_name": "Python 3 (ipykernel)",
   "language": "python",
   "name": "python3"
  },
  "language_info": {
   "codemirror_mode": {
    "name": "ipython",
    "version": 3
   },
   "file_extension": ".py",
   "mimetype": "text/x-python",
   "name": "python",
   "nbconvert_exporter": "python",
   "pygments_lexer": "ipython3",
   "version": "3.8.8"
  }
 },
 "nbformat": 4,
 "nbformat_minor": 5
}
